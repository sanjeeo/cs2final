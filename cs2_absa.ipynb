{
 "cells": [
  {
   "cell_type": "code",
   "execution_count": 1,
   "metadata": {},
   "outputs": [],
   "source": [
    "#!pip install keras"
   ]
  },
  {
   "cell_type": "code",
   "execution_count": 2,
   "metadata": {},
   "outputs": [
    {
     "data": {
      "text/html": [
       "<style type=\"text/css\">\n",
       "table.dataframe td, table.dataframe th {\n",
       "    border: 1px  black solid !important;\n",
       "  color: black !important;\n",
       "}\n",
       "</style>"
      ],
      "text/plain": [
       "<IPython.core.display.HTML object>"
      ]
     },
     "metadata": {},
     "output_type": "display_data"
    }
   ],
   "source": [
    "from module_2_preprocessing import Data_Preprocessing\n",
    "from module_12_DF_creation import DataFrame_Creation"
   ]
  },
  {
   "cell_type": "code",
   "execution_count": 3,
   "metadata": {},
   "outputs": [],
   "source": [
    "import warnings\n",
    "warnings.filterwarnings(\"ignore\")\n",
    "import joblib\n",
    "import pandas as pd\n",
    "import numpy as np\n",
    "import pickle\n",
    "import keras\n",
    "from keras.models import Sequential\n",
    "from keras.layers import Dense\n",
    "from sklearn.preprocessing import LabelEncoder\n",
    "from keras import utils as np_utils\n",
    "from tensorflow.keras.layers import Dropout"
   ]
  },
  {
   "cell_type": "code",
   "execution_count": 4,
   "metadata": {},
   "outputs": [],
   "source": [
    "class Abstract_based_sentiment_analysis:\n",
    "    def __init__(self) : \n",
    "        self.path_acbsa = \"saved_model/acbsa_model.h5\"\n",
    "        self.path_sentiment = \"saved_model/sentiment_model.h5\"\n",
    "        self.path_tokenizer = 'saved_model/tokenizer'\n",
    "        self.path_le_acbsa = 'saved_model/label_encoder_acbsa'\n",
    "        self.path_le_sentiment = 'saved_model/label_encoder_sentiment'\n",
    "        self.acbsa_model = self.acbsa_model_creation()\n",
    "        self.sentiment_model = self.sentiment_model_creation()\n",
    "        self.dp = Data_Preprocessing()\n",
    "        self.dfc = DataFrame_Creation()\n",
    "        \n",
    "        with open(self.path_tokenizer, 'rb') as f:               \n",
    "            self.tokenizer = pickle.load(f)\n",
    "        \n",
    "        with open(self.path_le_acbsa, 'rb') as f:               \n",
    "            self.label_encoder_acbsa = pickle.load(f)\n",
    "        \n",
    "        with open(self.path_le_sentiment, 'rb') as f:               \n",
    "            self.label_encoder_sentiment = pickle.load(f)\n",
    "    \n",
    "    def acbsa_model_creation(self):\n",
    "        acbsa_model = Sequential()                                                   \n",
    "        acbsa_model.add(Dense(512, input_shape=(6000,), activation='relu'))\n",
    "        acbsa_model.add((Dense(256, activation='relu')))\n",
    "        acbsa_model.add((Dropout(0.3)))\n",
    "        acbsa_model.add((Dense(128, activation='relu')))\n",
    "        acbsa_model.add(Dense(5, activation='softmax'))\n",
    "        acbsa_model.load_weights(self.path_acbsa)\n",
    "        return acbsa_model\n",
    "    \n",
    "    def sentiment_model_creation(self):\n",
    "        sentiment_model = Sequential()\n",
    "        sentiment_model.add(Dense(512, input_shape=(6000,), activation='relu'))\n",
    "        sentiment_model.add((Dense(256, activation='relu')))\n",
    "        sentiment_model.add((Dropout(0.3)))\n",
    "        sentiment_model.add((Dense(128, activation='relu')))\n",
    "        sentiment_model.add(Dense(4, activation='softmax'))\n",
    "        sentiment_model.load_weights(self.path_sentiment)\n",
    "        return sentiment_model \n",
    "    \n",
    "    def predict(self,sentence) :\n",
    "        sentence_preprocessed = self.dp.preprocess_text(sentence)\n",
    "        sen_tokenized = pd.DataFrame(self.tokenizer.texts_to_matrix(sentence_preprocessed))\n",
    "        predicted_cat = self.label_encoder_acbsa.inverse_transform(self.acbsa_model.predict_classes(sen_tokenized))        \n",
    "        predicted_polarity = self.label_encoder_sentiment.inverse_transform(self.sentiment_model.predict_classes(sen_tokenized))\n",
    "        result = self.dfc.create_result_dataframe(predicted_cat,predicted_polarity)\n",
    "        return result\n"
   ]
  },
  {
   "cell_type": "code",
   "execution_count": 5,
   "metadata": {},
   "outputs": [],
   "source": [
    "restuarnt_data = pd.read_csv(\"restaurant_train_data_semeval_14.csv\")\n",
    "reviews = restuarnt_data[\"text\"]\n",
    "reviews = reviews[0:100]\n",
    "#reviews"
   ]
  },
  {
   "cell_type": "code",
   "execution_count": 6,
   "metadata": {},
   "outputs": [
    {
     "name": "stderr",
     "output_type": "stream",
     "text": [
      "100%|██████████| 100/100 [00:02<00:00, 47.18it/s]\n"
     ]
    },
    {
     "data": {
      "text/html": [
       "<div>\n",
       "<style scoped>\n",
       "    .dataframe tbody tr th:only-of-type {\n",
       "        vertical-align: middle;\n",
       "    }\n",
       "\n",
       "    .dataframe tbody tr th {\n",
       "        vertical-align: top;\n",
       "    }\n",
       "\n",
       "    .dataframe thead th {\n",
       "        text-align: right;\n",
       "    }\n",
       "</style>\n",
       "<table border=\"1\" class=\"dataframe\">\n",
       "  <thead>\n",
       "    <tr style=\"text-align: right;\">\n",
       "      <th>predicted_polarity</th>\n",
       "      <th>Ranking</th>\n",
       "      <th>negative %</th>\n",
       "      <th>positive %</th>\n",
       "      <th>neutral %</th>\n",
       "      <th>conflict %</th>\n",
       "    </tr>\n",
       "    <tr>\n",
       "      <th>predicted_catagories</th>\n",
       "      <th></th>\n",
       "      <th></th>\n",
       "      <th></th>\n",
       "      <th></th>\n",
       "      <th></th>\n",
       "    </tr>\n",
       "  </thead>\n",
       "  <tbody>\n",
       "    <tr>\n",
       "      <th>ambience</th>\n",
       "      <td>0.65</td>\n",
       "      <td>15.384615</td>\n",
       "      <td>76.923077</td>\n",
       "      <td>7.692308</td>\n",
       "      <td>0.000000</td>\n",
       "    </tr>\n",
       "    <tr>\n",
       "      <th>anecdotes/miscellaneous</th>\n",
       "      <td>1.70</td>\n",
       "      <td>20.588235</td>\n",
       "      <td>58.823529</td>\n",
       "      <td>17.647059</td>\n",
       "      <td>2.941176</td>\n",
       "    </tr>\n",
       "    <tr>\n",
       "      <th>food</th>\n",
       "      <td>1.60</td>\n",
       "      <td>12.500000</td>\n",
       "      <td>65.625000</td>\n",
       "      <td>12.500000</td>\n",
       "      <td>9.375000</td>\n",
       "    </tr>\n",
       "    <tr>\n",
       "      <th>price</th>\n",
       "      <td>0.45</td>\n",
       "      <td>22.222222</td>\n",
       "      <td>77.777778</td>\n",
       "      <td>0.000000</td>\n",
       "      <td>0.000000</td>\n",
       "    </tr>\n",
       "    <tr>\n",
       "      <th>service</th>\n",
       "      <td>0.60</td>\n",
       "      <td>25.000000</td>\n",
       "      <td>58.333333</td>\n",
       "      <td>0.000000</td>\n",
       "      <td>16.666667</td>\n",
       "    </tr>\n",
       "  </tbody>\n",
       "</table>\n",
       "</div>"
      ],
      "text/plain": [
       "predicted_polarity       Ranking  negative %  positive %  neutral %  \\\n",
       "predicted_catagories                                                  \n",
       "ambience                    0.65   15.384615   76.923077   7.692308   \n",
       "anecdotes/miscellaneous     1.70   20.588235   58.823529  17.647059   \n",
       "food                        1.60   12.500000   65.625000  12.500000   \n",
       "price                       0.45   22.222222   77.777778   0.000000   \n",
       "service                     0.60   25.000000   58.333333   0.000000   \n",
       "\n",
       "predicted_polarity       conflict %  \n",
       "predicted_catagories                 \n",
       "ambience                   0.000000  \n",
       "anecdotes/miscellaneous    2.941176  \n",
       "food                       9.375000  \n",
       "price                      0.000000  \n",
       "service                   16.666667  "
      ]
     },
     "execution_count": 6,
     "metadata": {},
     "output_type": "execute_result"
    }
   ],
   "source": [
    "ab = Abstract_based_sentiment_analysis()\n",
    "result = ab.predict(reviews)\n",
    "result"
   ]
  },
  {
   "cell_type": "code",
   "execution_count": null,
   "metadata": {},
   "outputs": [],
   "source": []
  },
  {
   "cell_type": "code",
   "execution_count": null,
   "metadata": {},
   "outputs": [],
   "source": []
  }
 ],
 "metadata": {
  "kernelspec": {
   "display_name": "Python 3",
   "language": "python",
   "name": "python3"
  },
  "language_info": {
   "codemirror_mode": {
    "name": "ipython",
    "version": 3
   },
   "file_extension": ".py",
   "mimetype": "text/x-python",
   "name": "python",
   "nbconvert_exporter": "python",
   "pygments_lexer": "ipython3",
   "version": "3.7.3"
  }
 },
 "nbformat": 4,
 "nbformat_minor": 2
}
